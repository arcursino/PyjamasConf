{
 "cells": [
  {
   "cell_type": "code",
   "execution_count": 19,
   "metadata": {},
   "outputs": [],
   "source": [
    "import pandas as pd\n",
    "from scipy.stats import mode\n",
    "low_memory=False\n",
    "\n",
    "import matplotlib.pyplot as plt\n",
    "import matplotlib.patches as mpatches\n",
    "%matplotlib inline"
   ]
  },
  {
   "cell_type": "code",
   "execution_count": 20,
   "metadata": {},
   "outputs": [],
   "source": [
    "df = pd.read_csv(r'/home/ariana/meu_projeto/meu_projeto_env/pyjamas/df2009_df2018.csv', delimiter=',')"
   ]
  },
  {
   "cell_type": "code",
   "execution_count": 21,
   "metadata": {},
   "outputs": [
    {
     "data": {
      "text/html": [
       "<div>\n",
       "<style scoped>\n",
       "    .dataframe tbody tr th:only-of-type {\n",
       "        vertical-align: middle;\n",
       "    }\n",
       "\n",
       "    .dataframe tbody tr th {\n",
       "        vertical-align: top;\n",
       "    }\n",
       "\n",
       "    .dataframe thead th {\n",
       "        text-align: right;\n",
       "    }\n",
       "</style>\n",
       "<table border=\"1\" class=\"dataframe\">\n",
       "  <thead>\n",
       "    <tr style=\"text-align: right;\">\n",
       "      <th></th>\n",
       "      <th>IDADE</th>\n",
       "      <th>ANO</th>\n",
       "      <th>SEXO</th>\n",
       "      <th>SITUACAO</th>\n",
       "      <th>CURSO</th>\n",
       "    </tr>\n",
       "  </thead>\n",
       "  <tbody>\n",
       "    <tr>\n",
       "      <th>0</th>\n",
       "      <td>29</td>\n",
       "      <td>2009</td>\n",
       "      <td>Masculino</td>\n",
       "      <td>Cursando</td>\n",
       "      <td>ANALISE E DESENVOLVIMENTO DE SISTEMAS</td>\n",
       "    </tr>\n",
       "    <tr>\n",
       "      <th>1</th>\n",
       "      <td>21</td>\n",
       "      <td>2009</td>\n",
       "      <td>Masculino</td>\n",
       "      <td>Desvinculado do curso</td>\n",
       "      <td>ANALISE E DESENVOLVIMENTO DE SISTEMAS</td>\n",
       "    </tr>\n",
       "    <tr>\n",
       "      <th>2</th>\n",
       "      <td>20</td>\n",
       "      <td>2009</td>\n",
       "      <td>Masculino</td>\n",
       "      <td>Cursando</td>\n",
       "      <td>COMPUTACAO</td>\n",
       "    </tr>\n",
       "    <tr>\n",
       "      <th>3</th>\n",
       "      <td>41</td>\n",
       "      <td>2009</td>\n",
       "      <td>Masculino</td>\n",
       "      <td>Matrícula trancada</td>\n",
       "      <td>ANALISE E DESENVOLVIMENTO DE SISTEMAS</td>\n",
       "    </tr>\n",
       "    <tr>\n",
       "      <th>4</th>\n",
       "      <td>18</td>\n",
       "      <td>2009</td>\n",
       "      <td>Masculino</td>\n",
       "      <td>Cursando</td>\n",
       "      <td>INFORMATICA</td>\n",
       "    </tr>\n",
       "  </tbody>\n",
       "</table>\n",
       "</div>"
      ],
      "text/plain": [
       "   IDADE   ANO       SEXO               SITUACAO  \\\n",
       "0     29  2009  Masculino               Cursando   \n",
       "1     21  2009  Masculino  Desvinculado do curso   \n",
       "2     20  2009  Masculino               Cursando   \n",
       "3     41  2009  Masculino     Matrícula trancada   \n",
       "4     18  2009  Masculino               Cursando   \n",
       "\n",
       "                                   CURSO  \n",
       "0  ANALISE E DESENVOLVIMENTO DE SISTEMAS  \n",
       "1  ANALISE E DESENVOLVIMENTO DE SISTEMAS  \n",
       "2                             COMPUTACAO  \n",
       "3  ANALISE E DESENVOLVIMENTO DE SISTEMAS  \n",
       "4                            INFORMATICA  "
      ]
     },
     "execution_count": 21,
     "metadata": {},
     "output_type": "execute_result"
    }
   ],
   "source": [
    "df.head()"
   ]
  },
  {
   "cell_type": "code",
   "execution_count": 22,
   "metadata": {},
   "outputs": [
    {
     "data": {
      "text/plain": [
       "array(['ANALISE E DESENVOLVIMENTO DE SISTEMAS', 'COMPUTACAO',\n",
       "       'INFORMATICA', 'TECNOLOGIA DA INFORMACAO'], dtype=object)"
      ]
     },
     "execution_count": 22,
     "metadata": {},
     "output_type": "execute_result"
    }
   ],
   "source": [
    "df['CURSO'].unique()"
   ]
  },
  {
   "cell_type": "code",
   "execution_count": 23,
   "metadata": {},
   "outputs": [
    {
     "data": {
      "text/plain": [
       "<matplotlib.axes._subplots.AxesSubplot at 0x7f1225db2748>"
      ]
     },
     "execution_count": 23,
     "metadata": {},
     "output_type": "execute_result"
    },
    {
     "data": {
      "image/png": "[encoded data removed]",
      "text/plain": [
       "<Figure size 432x288 with 1 Axes>"
      ]
     },
     "metadata": {},
     "output_type": "display_data"
    }
   ],
   "source": [
    "df['CURSO'].value_counts().plot.pie()"
   ]
  },
  {
   "cell_type": "code",
   "execution_count": 59,
   "metadata": {},
   "outputs": [
    {
     "data": {
      "text/html": [
       "<div>\n",
       "<style scoped>\n",
       "    .dataframe tbody tr th:only-of-type {\n",
       "        vertical-align: middle;\n",
       "    }\n",
       "\n",
       "    .dataframe tbody tr th {\n",
       "        vertical-align: top;\n",
       "    }\n",
       "\n",
       "    .dataframe thead th {\n",
       "        text-align: right;\n",
       "    }\n",
       "</style>\n",
       "<table border=\"1\" class=\"dataframe\">\n",
       "  <thead>\n",
       "    <tr style=\"text-align: right;\">\n",
       "      <th>SEXO</th>\n",
       "      <th>Feminino</th>\n",
       "      <th>Masculino</th>\n",
       "      <th>All</th>\n",
       "    </tr>\n",
       "    <tr>\n",
       "      <th>IDADE</th>\n",
       "      <th></th>\n",
       "      <th></th>\n",
       "      <th></th>\n",
       "    </tr>\n",
       "  </thead>\n",
       "  <tbody>\n",
       "    <tr>\n",
       "      <th>13</th>\n",
       "      <td>0</td>\n",
       "      <td>2</td>\n",
       "      <td>2</td>\n",
       "    </tr>\n",
       "    <tr>\n",
       "      <th>15</th>\n",
       "      <td>0</td>\n",
       "      <td>7</td>\n",
       "      <td>7</td>\n",
       "    </tr>\n",
       "    <tr>\n",
       "      <th>16</th>\n",
       "      <td>17</td>\n",
       "      <td>66</td>\n",
       "      <td>83</td>\n",
       "    </tr>\n",
       "    <tr>\n",
       "      <th>17</th>\n",
       "      <td>718</td>\n",
       "      <td>2605</td>\n",
       "      <td>3323</td>\n",
       "    </tr>\n",
       "    <tr>\n",
       "      <th>18</th>\n",
       "      <td>8692</td>\n",
       "      <td>36118</td>\n",
       "      <td>44810</td>\n",
       "    </tr>\n",
       "    <tr>\n",
       "      <th>19</th>\n",
       "      <td>14793</td>\n",
       "      <td>62152</td>\n",
       "      <td>76945</td>\n",
       "    </tr>\n",
       "    <tr>\n",
       "      <th>20</th>\n",
       "      <td>17327</td>\n",
       "      <td>75893</td>\n",
       "      <td>93220</td>\n",
       "    </tr>\n",
       "    <tr>\n",
       "      <th>21</th>\n",
       "      <td>16998</td>\n",
       "      <td>78697</td>\n",
       "      <td>95695</td>\n",
       "    </tr>\n",
       "    <tr>\n",
       "      <th>22</th>\n",
       "      <td>15329</td>\n",
       "      <td>74267</td>\n",
       "      <td>89596</td>\n",
       "    </tr>\n",
       "    <tr>\n",
       "      <th>23</th>\n",
       "      <td>13635</td>\n",
       "      <td>67980</td>\n",
       "      <td>81615</td>\n",
       "    </tr>\n",
       "    <tr>\n",
       "      <th>24</th>\n",
       "      <td>12206</td>\n",
       "      <td>62734</td>\n",
       "      <td>74940</td>\n",
       "    </tr>\n",
       "    <tr>\n",
       "      <th>25</th>\n",
       "      <td>11122</td>\n",
       "      <td>57480</td>\n",
       "      <td>68602</td>\n",
       "    </tr>\n",
       "    <tr>\n",
       "      <th>26</th>\n",
       "      <td>10185</td>\n",
       "      <td>52667</td>\n",
       "      <td>62852</td>\n",
       "    </tr>\n",
       "    <tr>\n",
       "      <th>27</th>\n",
       "      <td>9391</td>\n",
       "      <td>48634</td>\n",
       "      <td>58025</td>\n",
       "    </tr>\n",
       "    <tr>\n",
       "      <th>28</th>\n",
       "      <td>8546</td>\n",
       "      <td>44603</td>\n",
       "      <td>53149</td>\n",
       "    </tr>\n",
       "    <tr>\n",
       "      <th>29</th>\n",
       "      <td>7719</td>\n",
       "      <td>40702</td>\n",
       "      <td>48421</td>\n",
       "    </tr>\n",
       "    <tr>\n",
       "      <th>30</th>\n",
       "      <td>6860</td>\n",
       "      <td>36953</td>\n",
       "      <td>43813</td>\n",
       "    </tr>\n",
       "    <tr>\n",
       "      <th>31</th>\n",
       "      <td>6234</td>\n",
       "      <td>33425</td>\n",
       "      <td>39659</td>\n",
       "    </tr>\n",
       "    <tr>\n",
       "      <th>32</th>\n",
       "      <td>5582</td>\n",
       "      <td>30099</td>\n",
       "      <td>35681</td>\n",
       "    </tr>\n",
       "    <tr>\n",
       "      <th>33</th>\n",
       "      <td>4901</td>\n",
       "      <td>27057</td>\n",
       "      <td>31958</td>\n",
       "    </tr>\n",
       "    <tr>\n",
       "      <th>34</th>\n",
       "      <td>4408</td>\n",
       "      <td>24400</td>\n",
       "      <td>28808</td>\n",
       "    </tr>\n",
       "    <tr>\n",
       "      <th>35</th>\n",
       "      <td>3947</td>\n",
       "      <td>21791</td>\n",
       "      <td>25738</td>\n",
       "    </tr>\n",
       "    <tr>\n",
       "      <th>36</th>\n",
       "      <td>3455</td>\n",
       "      <td>19191</td>\n",
       "      <td>22646</td>\n",
       "    </tr>\n",
       "    <tr>\n",
       "      <th>37</th>\n",
       "      <td>2991</td>\n",
       "      <td>16445</td>\n",
       "      <td>19436</td>\n",
       "    </tr>\n",
       "    <tr>\n",
       "      <th>38</th>\n",
       "      <td>2581</td>\n",
       "      <td>14273</td>\n",
       "      <td>16854</td>\n",
       "    </tr>\n",
       "    <tr>\n",
       "      <th>39</th>\n",
       "      <td>2208</td>\n",
       "      <td>12354</td>\n",
       "      <td>14562</td>\n",
       "    </tr>\n",
       "    <tr>\n",
       "      <th>40</th>\n",
       "      <td>1914</td>\n",
       "      <td>10561</td>\n",
       "      <td>12475</td>\n",
       "    </tr>\n",
       "    <tr>\n",
       "      <th>41</th>\n",
       "      <td>1634</td>\n",
       "      <td>9248</td>\n",
       "      <td>10882</td>\n",
       "    </tr>\n",
       "    <tr>\n",
       "      <th>42</th>\n",
       "      <td>1436</td>\n",
       "      <td>7881</td>\n",
       "      <td>9317</td>\n",
       "    </tr>\n",
       "    <tr>\n",
       "      <th>43</th>\n",
       "      <td>1219</td>\n",
       "      <td>6868</td>\n",
       "      <td>8087</td>\n",
       "    </tr>\n",
       "    <tr>\n",
       "      <th>44</th>\n",
       "      <td>1069</td>\n",
       "      <td>5837</td>\n",
       "      <td>6906</td>\n",
       "    </tr>\n",
       "    <tr>\n",
       "      <th>45</th>\n",
       "      <td>909</td>\n",
       "      <td>5075</td>\n",
       "      <td>5984</td>\n",
       "    </tr>\n",
       "    <tr>\n",
       "      <th>46</th>\n",
       "      <td>821</td>\n",
       "      <td>4350</td>\n",
       "      <td>5171</td>\n",
       "    </tr>\n",
       "    <tr>\n",
       "      <th>47</th>\n",
       "      <td>701</td>\n",
       "      <td>3719</td>\n",
       "      <td>4420</td>\n",
       "    </tr>\n",
       "    <tr>\n",
       "      <th>48</th>\n",
       "      <td>577</td>\n",
       "      <td>3258</td>\n",
       "      <td>3835</td>\n",
       "    </tr>\n",
       "    <tr>\n",
       "      <th>49</th>\n",
       "      <td>482</td>\n",
       "      <td>2834</td>\n",
       "      <td>3316</td>\n",
       "    </tr>\n",
       "    <tr>\n",
       "      <th>50</th>\n",
       "      <td>415</td>\n",
       "      <td>2374</td>\n",
       "      <td>2789</td>\n",
       "    </tr>\n",
       "    <tr>\n",
       "      <th>51</th>\n",
       "      <td>351</td>\n",
       "      <td>2068</td>\n",
       "      <td>2419</td>\n",
       "    </tr>\n",
       "    <tr>\n",
       "      <th>52</th>\n",
       "      <td>328</td>\n",
       "      <td>1684</td>\n",
       "      <td>2012</td>\n",
       "    </tr>\n",
       "    <tr>\n",
       "      <th>53</th>\n",
       "      <td>288</td>\n",
       "      <td>1463</td>\n",
       "      <td>1751</td>\n",
       "    </tr>\n",
       "    <tr>\n",
       "      <th>54</th>\n",
       "      <td>235</td>\n",
       "      <td>1211</td>\n",
       "      <td>1446</td>\n",
       "    </tr>\n",
       "    <tr>\n",
       "      <th>55</th>\n",
       "      <td>177</td>\n",
       "      <td>1009</td>\n",
       "      <td>1186</td>\n",
       "    </tr>\n",
       "    <tr>\n",
       "      <th>56</th>\n",
       "      <td>149</td>\n",
       "      <td>821</td>\n",
       "      <td>970</td>\n",
       "    </tr>\n",
       "    <tr>\n",
       "      <th>57</th>\n",
       "      <td>114</td>\n",
       "      <td>648</td>\n",
       "      <td>762</td>\n",
       "    </tr>\n",
       "    <tr>\n",
       "      <th>58</th>\n",
       "      <td>89</td>\n",
       "      <td>539</td>\n",
       "      <td>628</td>\n",
       "    </tr>\n",
       "    <tr>\n",
       "      <th>59</th>\n",
       "      <td>71</td>\n",
       "      <td>435</td>\n",
       "      <td>506</td>\n",
       "    </tr>\n",
       "    <tr>\n",
       "      <th>60</th>\n",
       "      <td>68</td>\n",
       "      <td>360</td>\n",
       "      <td>428</td>\n",
       "    </tr>\n",
       "    <tr>\n",
       "      <th>61</th>\n",
       "      <td>58</td>\n",
       "      <td>286</td>\n",
       "      <td>344</td>\n",
       "    </tr>\n",
       "    <tr>\n",
       "      <th>62</th>\n",
       "      <td>44</td>\n",
       "      <td>205</td>\n",
       "      <td>249</td>\n",
       "    </tr>\n",
       "    <tr>\n",
       "      <th>63</th>\n",
       "      <td>28</td>\n",
       "      <td>157</td>\n",
       "      <td>185</td>\n",
       "    </tr>\n",
       "    <tr>\n",
       "      <th>64</th>\n",
       "      <td>23</td>\n",
       "      <td>129</td>\n",
       "      <td>152</td>\n",
       "    </tr>\n",
       "    <tr>\n",
       "      <th>65</th>\n",
       "      <td>16</td>\n",
       "      <td>97</td>\n",
       "      <td>113</td>\n",
       "    </tr>\n",
       "    <tr>\n",
       "      <th>66</th>\n",
       "      <td>13</td>\n",
       "      <td>79</td>\n",
       "      <td>92</td>\n",
       "    </tr>\n",
       "    <tr>\n",
       "      <th>67</th>\n",
       "      <td>10</td>\n",
       "      <td>51</td>\n",
       "      <td>61</td>\n",
       "    </tr>\n",
       "    <tr>\n",
       "      <th>68</th>\n",
       "      <td>6</td>\n",
       "      <td>36</td>\n",
       "      <td>42</td>\n",
       "    </tr>\n",
       "    <tr>\n",
       "      <th>69</th>\n",
       "      <td>5</td>\n",
       "      <td>24</td>\n",
       "      <td>29</td>\n",
       "    </tr>\n",
       "    <tr>\n",
       "      <th>70</th>\n",
       "      <td>2</td>\n",
       "      <td>20</td>\n",
       "      <td>22</td>\n",
       "    </tr>\n",
       "    <tr>\n",
       "      <th>71</th>\n",
       "      <td>3</td>\n",
       "      <td>15</td>\n",
       "      <td>18</td>\n",
       "    </tr>\n",
       "    <tr>\n",
       "      <th>72</th>\n",
       "      <td>3</td>\n",
       "      <td>20</td>\n",
       "      <td>23</td>\n",
       "    </tr>\n",
       "    <tr>\n",
       "      <th>73</th>\n",
       "      <td>3</td>\n",
       "      <td>11</td>\n",
       "      <td>14</td>\n",
       "    </tr>\n",
       "    <tr>\n",
       "      <th>74</th>\n",
       "      <td>3</td>\n",
       "      <td>10</td>\n",
       "      <td>13</td>\n",
       "    </tr>\n",
       "    <tr>\n",
       "      <th>75</th>\n",
       "      <td>1</td>\n",
       "      <td>8</td>\n",
       "      <td>9</td>\n",
       "    </tr>\n",
       "    <tr>\n",
       "      <th>76</th>\n",
       "      <td>0</td>\n",
       "      <td>5</td>\n",
       "      <td>5</td>\n",
       "    </tr>\n",
       "    <tr>\n",
       "      <th>77</th>\n",
       "      <td>2</td>\n",
       "      <td>4</td>\n",
       "      <td>6</td>\n",
       "    </tr>\n",
       "    <tr>\n",
       "      <th>78</th>\n",
       "      <td>0</td>\n",
       "      <td>2</td>\n",
       "      <td>2</td>\n",
       "    </tr>\n",
       "    <tr>\n",
       "      <th>79</th>\n",
       "      <td>0</td>\n",
       "      <td>3</td>\n",
       "      <td>3</td>\n",
       "    </tr>\n",
       "    <tr>\n",
       "      <th>81</th>\n",
       "      <td>0</td>\n",
       "      <td>1</td>\n",
       "      <td>1</td>\n",
       "    </tr>\n",
       "    <tr>\n",
       "      <th>82</th>\n",
       "      <td>1</td>\n",
       "      <td>0</td>\n",
       "      <td>1</td>\n",
       "    </tr>\n",
       "    <tr>\n",
       "      <th>83</th>\n",
       "      <td>1</td>\n",
       "      <td>1</td>\n",
       "      <td>2</td>\n",
       "    </tr>\n",
       "    <tr>\n",
       "      <th>84</th>\n",
       "      <td>0</td>\n",
       "      <td>1</td>\n",
       "      <td>1</td>\n",
       "    </tr>\n",
       "    <tr>\n",
       "      <th>All</th>\n",
       "      <td>203114</td>\n",
       "      <td>1014003</td>\n",
       "      <td>1217117</td>\n",
       "    </tr>\n",
       "  </tbody>\n",
       "</table>\n",
       "</div>"
      ],
      "text/plain": [
       "SEXO   Feminino  Masculino      All\n",
       "IDADE                              \n",
       "13            0          2        2\n",
       "15            0          7        7\n",
       "16           17         66       83\n",
       "17          718       2605     3323\n",
       "18         8692      36118    44810\n",
       "19        14793      62152    76945\n",
       "20        17327      75893    93220\n",
       "21        16998      78697    95695\n",
       "22        15329      74267    89596\n",
       "23        13635      67980    81615\n",
       "24        12206      62734    74940\n",
       "25        11122      57480    68602\n",
       "26        10185      52667    62852\n",
       "27         9391      48634    58025\n",
       "28         8546      44603    53149\n",
       "29         7719      40702    48421\n",
       "30         6860      36953    43813\n",
       "31         6234      33425    39659\n",
       "32         5582      30099    35681\n",
       "33         4901      27057    31958\n",
       "34         4408      24400    28808\n",
       "35         3947      21791    25738\n",
       "36         3455      19191    22646\n",
       "37         2991      16445    19436\n",
       "38         2581      14273    16854\n",
       "39         2208      12354    14562\n",
       "40         1914      10561    12475\n",
       "41         1634       9248    10882\n",
       "42         1436       7881     9317\n",
       "43         1219       6868     8087\n",
       "44         1069       5837     6906\n",
       "45          909       5075     5984\n",
       "46          821       4350     5171\n",
       "47          701       3719     4420\n",
       "48          577       3258     3835\n",
       "49          482       2834     3316\n",
       "50          415       2374     2789\n",
       "51          351       2068     2419\n",
       "52          328       1684     2012\n",
       "53          288       1463     1751\n",
       "54          235       1211     1446\n",
       "55          177       1009     1186\n",
       "56          149        821      970\n",
       "57          114        648      762\n",
       "58           89        539      628\n",
       "59           71        435      506\n",
       "60           68        360      428\n",
       "61           58        286      344\n",
       "62           44        205      249\n",
       "63           28        157      185\n",
       "64           23        129      152\n",
       "65           16         97      113\n",
       "66           13         79       92\n",
       "67           10         51       61\n",
       "68            6         36       42\n",
       "69            5         24       29\n",
       "70            2         20       22\n",
       "71            3         15       18\n",
       "72            3         20       23\n",
       "73            3         11       14\n",
       "74            3         10       13\n",
       "75            1          8        9\n",
       "76            0          5        5\n",
       "77            2          4        6\n",
       "78            0          2        2\n",
       "79            0          3        3\n",
       "81            0          1        1\n",
       "82            1          0        1\n",
       "83            1          1        2\n",
       "84            0          1        1\n",
       "All      203114    1014003  1217117"
      ]
     },
     "execution_count": 59,
     "metadata": {},
     "output_type": "execute_result"
    }
   ],
   "source": [
    "idade = pd.crosstab(index=df['IDADE'], columns=df['SEXO'],  margins=True)\n",
    "idade.head(100)"
   ]
  },
  {
   "cell_type": "code",
   "execution_count": 24,
   "metadata": {},
   "outputs": [],
   "source": [
    "masc = df[df['SEXO'] == 'Masculino'] \n",
    "femi = df[df['SEXO'] == 'Feminino']"
   ]
  },
  {
   "cell_type": "code",
   "execution_count": 25,
   "metadata": {},
   "outputs": [],
   "source": [
    "id_si_cu_masc = masc[['IDADE', 'SITUACAO', 'CURSO'] ]\n",
    "id_si_cu_femi = femi[['IDADE', 'SITUACAO', 'CURSO'] ]"
   ]
  },
  {
   "cell_type": "code",
   "execution_count": 26,
   "metadata": {},
   "outputs": [
    {
     "name": "stdout",
     "output_type": "stream",
     "text": [
      "Media da idade dos homens 27.16455079521461\n",
      "Media da idade das mulheres: 26.61389170613547\n"
     ]
    }
   ],
   "source": [
    "masc_avg = id_si_cu_masc['IDADE'].mean()\n",
    "femi_avg = id_si_cu_femi['IDADE'].mean()\n",
    "\n",
    "print(\"Media da idade dos homens\", masc_avg)\n",
    "print(\"Media da idade das mulheres:\", femi_avg)"
   ]
  },
  {
   "cell_type": "code",
   "execution_count": 54,
   "metadata": {},
   "outputs": [
    {
     "data": {
      "text/plain": [
       "21"
      ]
     },
     "execution_count": 54,
     "metadata": {},
     "output_type": "execute_result"
    }
   ],
   "source": [
    "mode(id_si_cu_masc['IDADE']).mode[0]"
   ]
  },
  {
   "cell_type": "code",
   "execution_count": 55,
   "metadata": {},
   "outputs": [
    {
     "data": {
      "text/plain": [
       "20"
      ]
     },
     "execution_count": 55,
     "metadata": {},
     "output_type": "execute_result"
    }
   ],
   "source": [
    "mode(id_si_cu_femi['IDADE']).mode[0]"
   ]
  },
  {
   "cell_type": "code",
   "execution_count": 89,
   "metadata": {},
   "outputs": [
    {
     "data": {
      "text/plain": [
       "<matplotlib.axes._subplots.AxesSubplot at 0x7f8cae7fff98>"
      ]
     },
     "execution_count": 89,
     "metadata": {},
     "output_type": "execute_result"
    },
    {
     "data": {
      "image/png": "[encoded data removed]",
      "text/plain": [
       "<Figure size 432x288 with 1 Axes>"
      ]
     },
     "metadata": {},
     "output_type": "display_data"
    }
   ],
   "source": [
    "df[\"SITUACAO\"].value_counts().plot.pie()"
   ]
  },
  {
   "cell_type": "code",
   "execution_count": 90,
   "metadata": {},
   "outputs": [
    {
     "data": {
      "image/png": "[encoded data removed]",
      "text/plain": [
       "<Figure size 432x288 with 1 Axes>"
      ]
     },
     "metadata": {},
     "output_type": "display_data"
    }
   ],
   "source": [
    "df[\"SEXO\"].value_counts().plot.pie()\n",
    "plt.savefig('/home/ariana/projetos/analise/sexo.png', transparent = True)"
   ]
  },
  {
   "cell_type": "code",
   "execution_count": 91,
   "metadata": {},
   "outputs": [
    {
     "data": {
      "text/plain": [
       "<matplotlib.axes._subplots.AxesSubplot at 0x7f8cb50157b8>"
      ]
     },
     "execution_count": 91,
     "metadata": {},
     "output_type": "execute_result"
    },
    {
     "data": {
      "image/png": "[encoded data removed]",
      "text/plain": [
       "<Figure size 432x288 with 1 Axes>"
      ]
     },
     "metadata": {
      "needs_background": "light"
     },
     "output_type": "display_data"
    }
   ],
   "source": [
    "curso_sexo = pd.crosstab(df['CURSO'],df['SEXO']).apply(lambda r: r/r.sum(), axis=1) * 100\n",
    "curso_sexo.plot(kind='bar',width=0.5, color=['red','blue'], title='Inserção Mulheres x Homens no Curso de TI')"
   ]
  },
  {
   "cell_type": "code",
   "execution_count": 92,
   "metadata": {},
   "outputs": [
    {
     "data": {
      "text/html": [
       "<div>\n",
       "<style scoped>\n",
       "    .dataframe tbody tr th:only-of-type {\n",
       "        vertical-align: middle;\n",
       "    }\n",
       "\n",
       "    .dataframe tbody tr th {\n",
       "        vertical-align: top;\n",
       "    }\n",
       "\n",
       "    .dataframe thead th {\n",
       "        text-align: right;\n",
       "    }\n",
       "</style>\n",
       "<table border=\"1\" class=\"dataframe\">\n",
       "  <thead>\n",
       "    <tr style=\"text-align: right;\">\n",
       "      <th>SEXO</th>\n",
       "      <th>Feminino</th>\n",
       "      <th>Masculino</th>\n",
       "    </tr>\n",
       "    <tr>\n",
       "      <th>CURSO</th>\n",
       "      <th></th>\n",
       "      <th></th>\n",
       "    </tr>\n",
       "  </thead>\n",
       "  <tbody>\n",
       "    <tr>\n",
       "      <th>ANALISE E DESENVOLVIMENTO DE SISTEMAS</th>\n",
       "      <td>14.981198</td>\n",
       "      <td>85.018802</td>\n",
       "    </tr>\n",
       "    <tr>\n",
       "      <th>COMPUTACAO</th>\n",
       "      <td>31.442550</td>\n",
       "      <td>68.557450</td>\n",
       "    </tr>\n",
       "    <tr>\n",
       "      <th>INFORMATICA</th>\n",
       "      <td>31.169762</td>\n",
       "      <td>68.830238</td>\n",
       "    </tr>\n",
       "    <tr>\n",
       "      <th>TECNOLOGIA DA INFORMACAO</th>\n",
       "      <td>11.696031</td>\n",
       "      <td>88.303969</td>\n",
       "    </tr>\n",
       "  </tbody>\n",
       "</table>\n",
       "</div>"
      ],
      "text/plain": [
       "SEXO                                    Feminino  Masculino\n",
       "CURSO                                                      \n",
       "ANALISE E DESENVOLVIMENTO DE SISTEMAS  14.981198  85.018802\n",
       "COMPUTACAO                             31.442550  68.557450\n",
       "INFORMATICA                            31.169762  68.830238\n",
       "TECNOLOGIA DA INFORMACAO               11.696031  88.303969"
      ]
     },
     "execution_count": 92,
     "metadata": {},
     "output_type": "execute_result"
    }
   ],
   "source": [
    "curso_sexo"
   ]
  },
  {
   "cell_type": "code",
   "execution_count": 93,
   "metadata": {},
   "outputs": [
    {
     "data": {
      "text/plain": [
       "<matplotlib.axes._subplots.AxesSubplot at 0x7f8cb5185fd0>"
      ]
     },
     "execution_count": 93,
     "metadata": {},
     "output_type": "execute_result"
    },
    {
     "data": {
      "image/png": "[encoded data removed]",
      "text/plain": [
       "<Figure size 432x288 with 1 Axes>"
      ]
     },
     "metadata": {
      "needs_background": "light"
     },
     "output_type": "display_data"
    }
   ],
   "source": [
    "situacao_sexo = pd.crosstab(df['SITUACAO'],df['SEXO'])\n",
    "situacao_sexo.plot(kind='bar',width=0.5, color=['red','blue'], title='Situação Mulheres x Homens no Curso de TI')"
   ]
  },
  {
   "cell_type": "code",
   "execution_count": 94,
   "metadata": {},
   "outputs": [
    {
     "data": {
      "text/html": [
       "<div>\n",
       "<style scoped>\n",
       "    .dataframe tbody tr th:only-of-type {\n",
       "        vertical-align: middle;\n",
       "    }\n",
       "\n",
       "    .dataframe tbody tr th {\n",
       "        vertical-align: top;\n",
       "    }\n",
       "\n",
       "    .dataframe thead th {\n",
       "        text-align: right;\n",
       "    }\n",
       "</style>\n",
       "<table border=\"1\" class=\"dataframe\">\n",
       "  <thead>\n",
       "    <tr style=\"text-align: right;\">\n",
       "      <th>SEXO</th>\n",
       "      <th>Feminino</th>\n",
       "      <th>Masculino</th>\n",
       "    </tr>\n",
       "    <tr>\n",
       "      <th>ANO</th>\n",
       "      <th></th>\n",
       "      <th></th>\n",
       "    </tr>\n",
       "  </thead>\n",
       "  <tbody>\n",
       "    <tr>\n",
       "      <th>2009</th>\n",
       "      <td>10164</td>\n",
       "      <td>40309</td>\n",
       "    </tr>\n",
       "    <tr>\n",
       "      <th>2010</th>\n",
       "      <td>13887</td>\n",
       "      <td>58140</td>\n",
       "    </tr>\n",
       "    <tr>\n",
       "      <th>2011</th>\n",
       "      <td>16777</td>\n",
       "      <td>73014</td>\n",
       "    </tr>\n",
       "    <tr>\n",
       "      <th>2012</th>\n",
       "      <td>19052</td>\n",
       "      <td>86917</td>\n",
       "    </tr>\n",
       "    <tr>\n",
       "      <th>2013</th>\n",
       "      <td>20876</td>\n",
       "      <td>98899</td>\n",
       "    </tr>\n",
       "    <tr>\n",
       "      <th>2014</th>\n",
       "      <td>23483</td>\n",
       "      <td>115072</td>\n",
       "    </tr>\n",
       "    <tr>\n",
       "      <th>2015</th>\n",
       "      <td>23559</td>\n",
       "      <td>121969</td>\n",
       "    </tr>\n",
       "    <tr>\n",
       "      <th>2016</th>\n",
       "      <td>23639</td>\n",
       "      <td>129352</td>\n",
       "    </tr>\n",
       "    <tr>\n",
       "      <th>2017</th>\n",
       "      <td>24430</td>\n",
       "      <td>136797</td>\n",
       "    </tr>\n",
       "    <tr>\n",
       "      <th>2018</th>\n",
       "      <td>27247</td>\n",
       "      <td>153534</td>\n",
       "    </tr>\n",
       "  </tbody>\n",
       "</table>\n",
       "</div>"
      ],
      "text/plain": [
       "SEXO  Feminino  Masculino\n",
       "ANO                      \n",
       "2009     10164      40309\n",
       "2010     13887      58140\n",
       "2011     16777      73014\n",
       "2012     19052      86917\n",
       "2013     20876      98899\n",
       "2014     23483     115072\n",
       "2015     23559     121969\n",
       "2016     23639     129352\n",
       "2017     24430     136797\n",
       "2018     27247     153534"
      ]
     },
     "execution_count": 94,
     "metadata": {},
     "output_type": "execute_result"
    }
   ],
   "source": [
    "curso_ano = pd.crosstab(df['ANO'],df['SEXO'])\n",
    "curso_ano"
   ]
  },
  {
   "cell_type": "code",
   "execution_count": 95,
   "metadata": {},
   "outputs": [
    {
     "data": {
      "image/png": "[encoded data removed]",
      "text/plain": [
       "<Figure size 432x288 with 1 Axes>"
      ]
     },
     "metadata": {
      "needs_background": "light"
     },
     "output_type": "display_data"
    }
   ],
   "source": [
    "curso_ano.plot(kind='bar',width=0.5, color=['red','blue'], title='Inserção Mulheres x Homens no Curso de TI entre os anos de 2009 a 2018 no Brasil' ,grid=False)\n",
    "plt.savefig('/home/ariana/projetos/analise/mulherxhomem.png', transparent = True)"
   ]
  },
  {
   "cell_type": "code",
   "execution_count": 96,
   "metadata": {},
   "outputs": [],
   "source": [
    "curso_ano_per = pd.crosstab(df['ANO'],df['SEXO']).apply(lambda r: r/r.sum(), axis=1) * 100"
   ]
  },
  {
   "cell_type": "code",
   "execution_count": 97,
   "metadata": {},
   "outputs": [
    {
     "data": {
      "text/plain": [
       "<matplotlib.axes._subplots.AxesSubplot at 0x7f8cae952a90>"
      ]
     },
     "execution_count": 97,
     "metadata": {},
     "output_type": "execute_result"
    },
    {
     "data": {
      "image/png": "[encoded data removed]",
      "text/plain": [
       "<Figure size 432x288 with 1 Axes>"
      ]
     },
     "metadata": {
      "needs_background": "light"
     },
     "output_type": "display_data"
    }
   ],
   "source": [
    "curso_ano_per.plot(kind='bar',width=0.5, color=['red','blue'], title='Porcentagem Mulheres x Homens no Curso de TI entre os anos de 2009 a 2018 no Brasil' ,grid=False)"
   ]
  },
  {
   "cell_type": "code",
   "execution_count": 98,
   "metadata": {},
   "outputs": [],
   "source": [
    "x = pd.DataFrame(df.query('SITUACAO == \"Formado\" and SEXO ==\"Masculino\" and CURSO == \"ANALISE E DESENVOLVIMENTO DE SISTEMAS\"'))\n",
    "y = pd.DataFrame(df.query('SITUACAO == \"Formado\" and SEXO ==\"Feminino\" and CURSO == \"ANALISE E DESENVOLVIMENTO DE SISTEMAS\"'))\n",
    "\n",
    "z = pd.DataFrame(df.query('SITUACAO == \"Cursando\" and SEXO ==\"Masculino\" and CURSO == \"ANALISE E DESENVOLVIMENTO DE SISTEMAS\"'))\n",
    "w = pd.DataFrame(df.query('SITUACAO == \"Cursando\" and SEXO ==\"Feminino\" and CURSO == \"ANALISE E DESENVOLVIMENTO DE SISTEMAS\"'))\n",
    "\n"
   ]
  },
  {
   "cell_type": "code",
   "execution_count": 99,
   "metadata": {},
   "outputs": [],
   "source": [
    "data = pd.concat([x, y, z, w])"
   ]
  },
  {
   "cell_type": "code",
   "execution_count": 100,
   "metadata": {},
   "outputs": [
    {
     "data": {
      "text/html": [
       "<div>\n",
       "<style scoped>\n",
       "    .dataframe tbody tr th:only-of-type {\n",
       "        vertical-align: middle;\n",
       "    }\n",
       "\n",
       "    .dataframe tbody tr th {\n",
       "        vertical-align: top;\n",
       "    }\n",
       "\n",
       "    .dataframe thead th {\n",
       "        text-align: right;\n",
       "    }\n",
       "</style>\n",
       "<table border=\"1\" class=\"dataframe\">\n",
       "  <thead>\n",
       "    <tr style=\"text-align: right;\">\n",
       "      <th></th>\n",
       "      <th>IDADE</th>\n",
       "      <th>ANO</th>\n",
       "      <th>SEXO</th>\n",
       "      <th>SITUACAO</th>\n",
       "      <th>CURSO</th>\n",
       "    </tr>\n",
       "  </thead>\n",
       "  <tbody>\n",
       "    <tr>\n",
       "      <th>104</th>\n",
       "      <td>26</td>\n",
       "      <td>2009</td>\n",
       "      <td>Masculino</td>\n",
       "      <td>Formado</td>\n",
       "      <td>ANALISE E DESENVOLVIMENTO DE SISTEMAS</td>\n",
       "    </tr>\n",
       "    <tr>\n",
       "      <th>108</th>\n",
       "      <td>21</td>\n",
       "      <td>2009</td>\n",
       "      <td>Masculino</td>\n",
       "      <td>Formado</td>\n",
       "      <td>ANALISE E DESENVOLVIMENTO DE SISTEMAS</td>\n",
       "    </tr>\n",
       "    <tr>\n",
       "      <th>230</th>\n",
       "      <td>23</td>\n",
       "      <td>2009</td>\n",
       "      <td>Masculino</td>\n",
       "      <td>Formado</td>\n",
       "      <td>ANALISE E DESENVOLVIMENTO DE SISTEMAS</td>\n",
       "    </tr>\n",
       "    <tr>\n",
       "      <th>270</th>\n",
       "      <td>27</td>\n",
       "      <td>2009</td>\n",
       "      <td>Masculino</td>\n",
       "      <td>Formado</td>\n",
       "      <td>ANALISE E DESENVOLVIMENTO DE SISTEMAS</td>\n",
       "    </tr>\n",
       "    <tr>\n",
       "      <th>288</th>\n",
       "      <td>23</td>\n",
       "      <td>2009</td>\n",
       "      <td>Masculino</td>\n",
       "      <td>Formado</td>\n",
       "      <td>ANALISE E DESENVOLVIMENTO DE SISTEMAS</td>\n",
       "    </tr>\n",
       "  </tbody>\n",
       "</table>\n",
       "</div>"
      ],
      "text/plain": [
       "     IDADE   ANO       SEXO SITUACAO                                  CURSO\n",
       "104     26  2009  Masculino  Formado  ANALISE E DESENVOLVIMENTO DE SISTEMAS\n",
       "108     21  2009  Masculino  Formado  ANALISE E DESENVOLVIMENTO DE SISTEMAS\n",
       "230     23  2009  Masculino  Formado  ANALISE E DESENVOLVIMENTO DE SISTEMAS\n",
       "270     27  2009  Masculino  Formado  ANALISE E DESENVOLVIMENTO DE SISTEMAS\n",
       "288     23  2009  Masculino  Formado  ANALISE E DESENVOLVIMENTO DE SISTEMAS"
      ]
     },
     "execution_count": 100,
     "metadata": {},
     "output_type": "execute_result"
    }
   ],
   "source": [
    "data.head()"
   ]
  },
  {
   "cell_type": "code",
   "execution_count": 101,
   "metadata": {},
   "outputs": [
    {
     "data": {
      "text/html": [
       "<div>\n",
       "<style scoped>\n",
       "    .dataframe tbody tr th:only-of-type {\n",
       "        vertical-align: middle;\n",
       "    }\n",
       "\n",
       "    .dataframe tbody tr th {\n",
       "        vertical-align: top;\n",
       "    }\n",
       "\n",
       "    .dataframe thead th {\n",
       "        text-align: right;\n",
       "    }\n",
       "</style>\n",
       "<table border=\"1\" class=\"dataframe\">\n",
       "  <thead>\n",
       "    <tr style=\"text-align: right;\">\n",
       "      <th>SEXO</th>\n",
       "      <th>Feminino</th>\n",
       "      <th>Masculino</th>\n",
       "    </tr>\n",
       "    <tr>\n",
       "      <th>SITUACAO</th>\n",
       "      <th></th>\n",
       "      <th></th>\n",
       "    </tr>\n",
       "  </thead>\n",
       "  <tbody>\n",
       "    <tr>\n",
       "      <th>Cursando</th>\n",
       "      <td>14.837883</td>\n",
       "      <td>85.162117</td>\n",
       "    </tr>\n",
       "    <tr>\n",
       "      <th>Formado</th>\n",
       "      <td>15.913133</td>\n",
       "      <td>84.086867</td>\n",
       "    </tr>\n",
       "  </tbody>\n",
       "</table>\n",
       "</div>"
      ],
      "text/plain": [
       "SEXO       Feminino  Masculino\n",
       "SITUACAO                      \n",
       "Cursando  14.837883  85.162117\n",
       "Formado   15.913133  84.086867"
      ]
     },
     "execution_count": 101,
     "metadata": {},
     "output_type": "execute_result"
    }
   ],
   "source": [
    "sit_sex = pd.crosstab(data['SITUACAO'],data['SEXO']).apply(lambda r: r/r.sum(), axis=1) * 100\n",
    "sit_sex"
   ]
  },
  {
   "cell_type": "code",
   "execution_count": 102,
   "metadata": {},
   "outputs": [
    {
     "data": {
      "image/png": "[encoded data removed]",
      "text/plain": [
       "<Figure size 432x288 with 1 Axes>"
      ]
     },
     "metadata": {
      "needs_background": "light"
     },
     "output_type": "display_data"
    }
   ],
   "source": [
    "sit_sex.plot(kind='bar',width=0.5, color=['red','blue'], title='Cursando X Formados no Curso de ADS')\n",
    "plt.savefig('/home/ariana/projetos/analise/formados_sexo.png', transparent = True)"
   ]
  },
  {
   "cell_type": "code",
   "execution_count": 103,
   "metadata": {},
   "outputs": [
    {
     "data": {
      "text/html": [
       "<div>\n",
       "<style scoped>\n",
       "    .dataframe tbody tr th:only-of-type {\n",
       "        vertical-align: middle;\n",
       "    }\n",
       "\n",
       "    .dataframe tbody tr th {\n",
       "        vertical-align: top;\n",
       "    }\n",
       "\n",
       "    .dataframe thead th {\n",
       "        text-align: right;\n",
       "    }\n",
       "</style>\n",
       "<table border=\"1\" class=\"dataframe\">\n",
       "  <thead>\n",
       "    <tr style=\"text-align: right;\">\n",
       "      <th>SITUACAO</th>\n",
       "      <th>Cursando</th>\n",
       "      <th>Formado</th>\n",
       "    </tr>\n",
       "    <tr>\n",
       "      <th>ANO</th>\n",
       "      <th></th>\n",
       "      <th></th>\n",
       "    </tr>\n",
       "  </thead>\n",
       "  <tbody>\n",
       "    <tr>\n",
       "      <th>2009</th>\n",
       "      <td>90.411962</td>\n",
       "      <td>9.588038</td>\n",
       "    </tr>\n",
       "    <tr>\n",
       "      <th>2010</th>\n",
       "      <td>87.475000</td>\n",
       "      <td>12.525000</td>\n",
       "    </tr>\n",
       "    <tr>\n",
       "      <th>2011</th>\n",
       "      <td>87.001977</td>\n",
       "      <td>12.998023</td>\n",
       "    </tr>\n",
       "    <tr>\n",
       "      <th>2012</th>\n",
       "      <td>87.829746</td>\n",
       "      <td>12.170254</td>\n",
       "    </tr>\n",
       "    <tr>\n",
       "      <th>2013</th>\n",
       "      <td>87.414197</td>\n",
       "      <td>12.585803</td>\n",
       "    </tr>\n",
       "    <tr>\n",
       "      <th>2014</th>\n",
       "      <td>86.000541</td>\n",
       "      <td>13.999459</td>\n",
       "    </tr>\n",
       "    <tr>\n",
       "      <th>2015</th>\n",
       "      <td>84.413776</td>\n",
       "      <td>15.586224</td>\n",
       "    </tr>\n",
       "    <tr>\n",
       "      <th>2016</th>\n",
       "      <td>83.934510</td>\n",
       "      <td>16.065490</td>\n",
       "    </tr>\n",
       "    <tr>\n",
       "      <th>2017</th>\n",
       "      <td>85.161905</td>\n",
       "      <td>14.838095</td>\n",
       "    </tr>\n",
       "    <tr>\n",
       "      <th>2018</th>\n",
       "      <td>85.511183</td>\n",
       "      <td>14.488817</td>\n",
       "    </tr>\n",
       "  </tbody>\n",
       "</table>\n",
       "</div>"
      ],
      "text/plain": [
       "SITUACAO   Cursando    Formado\n",
       "ANO                           \n",
       "2009      90.411962   9.588038\n",
       "2010      87.475000  12.525000\n",
       "2011      87.001977  12.998023\n",
       "2012      87.829746  12.170254\n",
       "2013      87.414197  12.585803\n",
       "2014      86.000541  13.999459\n",
       "2015      84.413776  15.586224\n",
       "2016      83.934510  16.065490\n",
       "2017      85.161905  14.838095\n",
       "2018      85.511183  14.488817"
      ]
     },
     "execution_count": 103,
     "metadata": {},
     "output_type": "execute_result"
    }
   ],
   "source": [
    "sit_ano = pd.crosstab(data['ANO'],data['SITUACAO']).apply(lambda r: r/r.sum(), axis=1) * 100\n",
    "sit_ano"
   ]
  },
  {
   "cell_type": "code",
   "execution_count": 80,
   "metadata": {},
   "outputs": [
    {
     "data": {
      "image/png": "[encoded data removed]",
      "text/plain": [
       "<Figure size 432x288 with 1 Axes>"
      ]
     },
     "metadata": {
      "needs_background": "light"
     },
     "output_type": "display_data"
    }
   ],
   "source": [
    "sit_ano.plot(kind='bar',width=0.5, color=['purple','black'], title='Situação Cursando X Formados no Curso de ADS nos anos de 2009 à 2018')\n",
    "plt.savefig('/home/ariana/projetos/analise/formados_ads.png', transparent = True)"
   ]
  },
  {
   "cell_type": "code",
   "execution_count": null,
   "metadata": {},
   "outputs": [],
   "source": []
  }
 ],
 "metadata": {
  "kernelspec": {
   "display_name": "Python 3",
   "language": "python",
   "name": "python3"
  },
  "language_info": {
   "codemirror_mode": {
    "name": "ipython",
    "version": 3
   },
   "file_extension": ".py",
   "mimetype": "text/x-python",
   "name": "python",
   "nbconvert_exporter": "python",
   "pygments_lexer": "ipython3",
   "version": "3.6.10"
  }
 },
 "nbformat": 4,
 "nbformat_minor": 2
}
