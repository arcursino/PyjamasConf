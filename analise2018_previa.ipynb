{
 "cells": [
  {
   "cell_type": "code",
   "execution_count": 1,
   "metadata": {},
   "outputs": [],
   "source": [
    "import pandas as pd\n",
    "import numpy as np\n",
    "low_memory=False"
   ]
  },
  {
   "cell_type": "code",
   "execution_count": 3,
   "metadata": {},
   "outputs": [],
   "source": [
    "df2018 = pd.read_csv(r'/home/ariana/projetos/analise/dados/DM_ALUNO_2018.CSV', delimiter = \"|\", usecols=['TP_SEXO', 'NU_IDADE' ,'CO_CURSO','TP_SITUACAO'])"
   ]
  },
  {
   "cell_type": "code",
   "execution_count": 4,
   "metadata": {},
   "outputs": [],
   "source": [
    "def define_sexo(sex):\n",
    "    if sex == 1:\n",
    "        return 'Feminino'\n",
    "    elif sex == 2:\n",
    "        return 'Masculino'\n",
    "\n",
    "df2018['SEXO'] = df2018['TP_SEXO'].map(define_sexo)"
   ]
  },
  {
   "cell_type": "code",
   "execution_count": 5,
   "metadata": {},
   "outputs": [],
   "source": [
    "def define_situacao(sit):\n",
    "    if sit == 2:\n",
    "        return 'Cursando'\n",
    "    if sit == 3:\n",
    "        return 'Matrícula trancada'\n",
    "    if sit == 4:\n",
    "        return 'Desvinculado do curso'\n",
    "    if sit == 5:\n",
    "        return 'Transferido para outro curso da mesma IES'\n",
    "    if sit == 6:\n",
    "        return 'Formado'    \n",
    "    elif sit == 7:\n",
    "        return 'Falecido'\n",
    "\n",
    "df2018['SITUACAO'] = df2018['TP_SITUACAO'].map(define_situacao)"
   ]
  },
  {
   "cell_type": "code",
   "execution_count": 6,
   "metadata": {},
   "outputs": [],
   "source": [
    "df2018['IDADE'] = df2018['NU_IDADE']"
   ]
  },
  {
   "cell_type": "code",
   "execution_count": 7,
   "metadata": {},
   "outputs": [],
   "source": [
    "dfcurso = pd.read_csv(r'/home/ariana/projetos/analise/dados/curso.csv', encoding='iso-8859-1', usecols=['NO_CURSO','CO_CURSO'])"
   ]
  },
  {
   "cell_type": "code",
   "execution_count": 8,
   "metadata": {},
   "outputs": [],
   "source": [
    "dic = dfcurso.to_dict('split')\n",
    "dic = dict(dic['data'])"
   ]
  },
  {
   "cell_type": "code",
   "execution_count": 9,
   "metadata": {},
   "outputs": [],
   "source": [
    "def define_curso(codigo):\n",
    "  return dic[codigo]\n",
    "   \n",
    "df2018['CURSO'] = df2018['CO_CURSO'].map(define_curso)"
   ]
  },
  {
   "cell_type": "code",
   "execution_count": 10,
   "metadata": {},
   "outputs": [
    {
     "data": {
      "text/html": [
       "<div>\n",
       "<style scoped>\n",
       "    .dataframe tbody tr th:only-of-type {\n",
       "        vertical-align: middle;\n",
       "    }\n",
       "\n",
       "    .dataframe tbody tr th {\n",
       "        vertical-align: top;\n",
       "    }\n",
       "\n",
       "    .dataframe thead th {\n",
       "        text-align: right;\n",
       "    }\n",
       "</style>\n",
       "<table border=\"1\" class=\"dataframe\">\n",
       "  <thead>\n",
       "    <tr style=\"text-align: right;\">\n",
       "      <th></th>\n",
       "      <th>CO_CURSO</th>\n",
       "      <th>TP_SEXO</th>\n",
       "      <th>NU_IDADE</th>\n",
       "      <th>TP_SITUACAO</th>\n",
       "      <th>SEXO</th>\n",
       "      <th>SITUACAO</th>\n",
       "      <th>IDADE</th>\n",
       "      <th>CURSO</th>\n",
       "    </tr>\n",
       "  </thead>\n",
       "  <tbody>\n",
       "    <tr>\n",
       "      <th>11556</th>\n",
       "      <td>41687</td>\n",
       "      <td>2</td>\n",
       "      <td>38</td>\n",
       "      <td>3</td>\n",
       "      <td>Masculino</td>\n",
       "      <td>Matrícula trancada</td>\n",
       "      <td>38</td>\n",
       "      <td>INFORMATICA</td>\n",
       "    </tr>\n",
       "    <tr>\n",
       "      <th>11557</th>\n",
       "      <td>41687</td>\n",
       "      <td>2</td>\n",
       "      <td>30</td>\n",
       "      <td>6</td>\n",
       "      <td>Masculino</td>\n",
       "      <td>Formado</td>\n",
       "      <td>30</td>\n",
       "      <td>INFORMATICA</td>\n",
       "    </tr>\n",
       "    <tr>\n",
       "      <th>11558</th>\n",
       "      <td>41687</td>\n",
       "      <td>1</td>\n",
       "      <td>27</td>\n",
       "      <td>3</td>\n",
       "      <td>Feminino</td>\n",
       "      <td>Matrícula trancada</td>\n",
       "      <td>27</td>\n",
       "      <td>INFORMATICA</td>\n",
       "    </tr>\n",
       "    <tr>\n",
       "      <th>11559</th>\n",
       "      <td>41687</td>\n",
       "      <td>2</td>\n",
       "      <td>44</td>\n",
       "      <td>6</td>\n",
       "      <td>Masculino</td>\n",
       "      <td>Formado</td>\n",
       "      <td>44</td>\n",
       "      <td>INFORMATICA</td>\n",
       "    </tr>\n",
       "    <tr>\n",
       "      <th>11560</th>\n",
       "      <td>41687</td>\n",
       "      <td>2</td>\n",
       "      <td>28</td>\n",
       "      <td>6</td>\n",
       "      <td>Masculino</td>\n",
       "      <td>Formado</td>\n",
       "      <td>28</td>\n",
       "      <td>INFORMATICA</td>\n",
       "    </tr>\n",
       "    <tr>\n",
       "      <th>...</th>\n",
       "      <td>...</td>\n",
       "      <td>...</td>\n",
       "      <td>...</td>\n",
       "      <td>...</td>\n",
       "      <td>...</td>\n",
       "      <td>...</td>\n",
       "      <td>...</td>\n",
       "      <td>...</td>\n",
       "    </tr>\n",
       "    <tr>\n",
       "      <th>12038985</th>\n",
       "      <td>91868</td>\n",
       "      <td>2</td>\n",
       "      <td>19</td>\n",
       "      <td>2</td>\n",
       "      <td>Masculino</td>\n",
       "      <td>Cursando</td>\n",
       "      <td>19</td>\n",
       "      <td>INFORMATICA</td>\n",
       "    </tr>\n",
       "    <tr>\n",
       "      <th>12038986</th>\n",
       "      <td>91868</td>\n",
       "      <td>2</td>\n",
       "      <td>24</td>\n",
       "      <td>2</td>\n",
       "      <td>Masculino</td>\n",
       "      <td>Cursando</td>\n",
       "      <td>24</td>\n",
       "      <td>INFORMATICA</td>\n",
       "    </tr>\n",
       "    <tr>\n",
       "      <th>12038987</th>\n",
       "      <td>91868</td>\n",
       "      <td>1</td>\n",
       "      <td>26</td>\n",
       "      <td>2</td>\n",
       "      <td>Feminino</td>\n",
       "      <td>Cursando</td>\n",
       "      <td>26</td>\n",
       "      <td>INFORMATICA</td>\n",
       "    </tr>\n",
       "    <tr>\n",
       "      <th>12038988</th>\n",
       "      <td>91868</td>\n",
       "      <td>2</td>\n",
       "      <td>21</td>\n",
       "      <td>2</td>\n",
       "      <td>Masculino</td>\n",
       "      <td>Cursando</td>\n",
       "      <td>21</td>\n",
       "      <td>INFORMATICA</td>\n",
       "    </tr>\n",
       "    <tr>\n",
       "      <th>12038989</th>\n",
       "      <td>91868</td>\n",
       "      <td>2</td>\n",
       "      <td>19</td>\n",
       "      <td>2</td>\n",
       "      <td>Masculino</td>\n",
       "      <td>Cursando</td>\n",
       "      <td>19</td>\n",
       "      <td>INFORMATICA</td>\n",
       "    </tr>\n",
       "  </tbody>\n",
       "</table>\n",
       "<p>14277 rows × 8 columns</p>\n",
       "</div>"
      ],
      "text/plain": [
       "          CO_CURSO  TP_SEXO  NU_IDADE  TP_SITUACAO       SEXO  \\\n",
       "11556        41687        2        38            3  Masculino   \n",
       "11557        41687        2        30            6  Masculino   \n",
       "11558        41687        1        27            3   Feminino   \n",
       "11559        41687        2        44            6  Masculino   \n",
       "11560        41687        2        28            6  Masculino   \n",
       "...            ...      ...       ...          ...        ...   \n",
       "12038985     91868        2        19            2  Masculino   \n",
       "12038986     91868        2        24            2  Masculino   \n",
       "12038987     91868        1        26            2   Feminino   \n",
       "12038988     91868        2        21            2  Masculino   \n",
       "12038989     91868        2        19            2  Masculino   \n",
       "\n",
       "                    SITUACAO  IDADE        CURSO  \n",
       "11556     Matrícula trancada     38  INFORMATICA  \n",
       "11557                Formado     30  INFORMATICA  \n",
       "11558     Matrícula trancada     27  INFORMATICA  \n",
       "11559                Formado     44  INFORMATICA  \n",
       "11560                Formado     28  INFORMATICA  \n",
       "...                      ...    ...          ...  \n",
       "12038985            Cursando     19  INFORMATICA  \n",
       "12038986            Cursando     24  INFORMATICA  \n",
       "12038987            Cursando     26  INFORMATICA  \n",
       "12038988            Cursando     21  INFORMATICA  \n",
       "12038989            Cursando     19  INFORMATICA  \n",
       "\n",
       "[14277 rows x 8 columns]"
      ]
     },
     "execution_count": 10,
     "metadata": {},
     "output_type": "execute_result"
    }
   ],
   "source": [
    "data = (df2018.loc[df2018['CURSO'].isin(['INFORMATICA' , 'COMPUTACAO', 'ANALISEEDESENVOLVIMENTODESISTEMAS', 'TECNOLOGIADAINFORMACAO'])])\n",
    "data "
   ]
  },
  {
   "cell_type": "code",
   "execution_count": 11,
   "metadata": {},
   "outputs": [
    {
     "data": {
      "text/plain": [
       "CO_CURSO       0\n",
       "TP_SEXO        0\n",
       "NU_IDADE       0\n",
       "TP_SITUACAO    0\n",
       "SEXO           0\n",
       "SITUACAO       0\n",
       "IDADE          0\n",
       "CURSO          0\n",
       "dtype: int64"
      ]
     },
     "execution_count": 11,
     "metadata": {},
     "output_type": "execute_result"
    }
   ],
   "source": [
    "data.isnull().sum()"
   ]
  },
  {
   "cell_type": "code",
   "execution_count": 14,
   "metadata": {},
   "outputs": [
    {
     "data": {
      "text/plain": [
       "array(['INFORMATICA', 'COMPUTACAO'], dtype=object)"
      ]
     },
     "execution_count": 14,
     "metadata": {},
     "output_type": "execute_result"
    }
   ],
   "source": [
    "data['CURSO'].unique()"
   ]
  },
  {
   "cell_type": "code",
   "execution_count": 13,
   "metadata": {},
   "outputs": [
    {
     "data": {
      "text/html": [
       "<div>\n",
       "<style scoped>\n",
       "    .dataframe tbody tr th:only-of-type {\n",
       "        vertical-align: middle;\n",
       "    }\n",
       "\n",
       "    .dataframe tbody tr th {\n",
       "        vertical-align: top;\n",
       "    }\n",
       "\n",
       "    .dataframe thead th {\n",
       "        text-align: right;\n",
       "    }\n",
       "</style>\n",
       "<table border=\"1\" class=\"dataframe\">\n",
       "  <thead>\n",
       "    <tr style=\"text-align: right;\">\n",
       "      <th></th>\n",
       "      <th>CO_CURSO</th>\n",
       "      <th>TP_SEXO</th>\n",
       "      <th>NU_IDADE</th>\n",
       "      <th>TP_SITUACAO</th>\n",
       "      <th>SEXO</th>\n",
       "      <th>SITUACAO</th>\n",
       "      <th>IDADE</th>\n",
       "      <th>CURSO</th>\n",
       "    </tr>\n",
       "  </thead>\n",
       "  <tbody>\n",
       "    <tr>\n",
       "      <th>11556</th>\n",
       "      <td>41687</td>\n",
       "      <td>2</td>\n",
       "      <td>38</td>\n",
       "      <td>3</td>\n",
       "      <td>Masculino</td>\n",
       "      <td>Matrícula trancada</td>\n",
       "      <td>38</td>\n",
       "      <td>INFORMATICA</td>\n",
       "    </tr>\n",
       "    <tr>\n",
       "      <th>11557</th>\n",
       "      <td>41687</td>\n",
       "      <td>2</td>\n",
       "      <td>30</td>\n",
       "      <td>6</td>\n",
       "      <td>Masculino</td>\n",
       "      <td>Formado</td>\n",
       "      <td>30</td>\n",
       "      <td>INFORMATICA</td>\n",
       "    </tr>\n",
       "    <tr>\n",
       "      <th>11558</th>\n",
       "      <td>41687</td>\n",
       "      <td>1</td>\n",
       "      <td>27</td>\n",
       "      <td>3</td>\n",
       "      <td>Feminino</td>\n",
       "      <td>Matrícula trancada</td>\n",
       "      <td>27</td>\n",
       "      <td>INFORMATICA</td>\n",
       "    </tr>\n",
       "    <tr>\n",
       "      <th>11559</th>\n",
       "      <td>41687</td>\n",
       "      <td>2</td>\n",
       "      <td>44</td>\n",
       "      <td>6</td>\n",
       "      <td>Masculino</td>\n",
       "      <td>Formado</td>\n",
       "      <td>44</td>\n",
       "      <td>INFORMATICA</td>\n",
       "    </tr>\n",
       "    <tr>\n",
       "      <th>11560</th>\n",
       "      <td>41687</td>\n",
       "      <td>2</td>\n",
       "      <td>28</td>\n",
       "      <td>6</td>\n",
       "      <td>Masculino</td>\n",
       "      <td>Formado</td>\n",
       "      <td>28</td>\n",
       "      <td>INFORMATICA</td>\n",
       "    </tr>\n",
       "  </tbody>\n",
       "</table>\n",
       "</div>"
      ],
      "text/plain": [
       "       CO_CURSO  TP_SEXO  NU_IDADE  TP_SITUACAO       SEXO  \\\n",
       "11556     41687        2        38            3  Masculino   \n",
       "11557     41687        2        30            6  Masculino   \n",
       "11558     41687        1        27            3   Feminino   \n",
       "11559     41687        2        44            6  Masculino   \n",
       "11560     41687        2        28            6  Masculino   \n",
       "\n",
       "                 SITUACAO  IDADE        CURSO  \n",
       "11556  Matrícula trancada     38  INFORMATICA  \n",
       "11557             Formado     30  INFORMATICA  \n",
       "11558  Matrícula trancada     27  INFORMATICA  \n",
       "11559             Formado     44  INFORMATICA  \n",
       "11560             Formado     28  INFORMATICA  "
      ]
     },
     "execution_count": 13,
     "metadata": {},
     "output_type": "execute_result"
    }
   ],
   "source": [
    "data.head()"
   ]
  },
  {
   "cell_type": "code",
   "execution_count": 18,
   "metadata": {},
   "outputs": [],
   "source": [
    "import matplotlib.pyplot as plt\n",
    "import matplotlib.patches as mpatches\n",
    "%matplotlib inline"
   ]
  },
  {
   "cell_type": "code",
   "execution_count": 19,
   "metadata": {},
   "outputs": [
    {
     "data": {
      "text/plain": [
       "<matplotlib.axes._subplots.AxesSubplot at 0x7f90850a4198>"
      ]
     },
     "execution_count": 19,
     "metadata": {},
     "output_type": "execute_result"
    },
    {
     "data": {
      "image/png": "[encoded data removed]",
      "text/plain": [
       "<Figure size 432x288 with 1 Axes>"
      ]
     },
     "metadata": {},
     "output_type": "display_data"
    }
   ],
   "source": [
    "data[\"SITUACAO\"].value_counts().plot.pie()"
   ]
  },
  {
   "cell_type": "code",
   "execution_count": 20,
   "metadata": {},
   "outputs": [
    {
     "data": {
      "text/plain": [
       "<matplotlib.axes._subplots.AxesSubplot at 0x7f9085182630>"
      ]
     },
     "execution_count": 20,
     "metadata": {},
     "output_type": "execute_result"
    },
    {
     "data": {
      "image/png": "[encoded data removed]",
      "text/plain": [
       "<Figure size 432x288 with 1 Axes>"
      ]
     },
     "metadata": {
      "needs_background": "light"
     },
     "output_type": "display_data"
    }
   ],
   "source": [
    "curso_sexo = pd.crosstab(data['CURSO'],data['SEXO'])\n",
    "curso_sexo.plot(kind='bar',width=0.5, color=['red','blue'], title='Inserção Mulheres x Homens no Curso de TI')"
   ]
  },
  {
   "cell_type": "code",
   "execution_count": null,
   "metadata": {},
   "outputs": [],
   "source": []
  },
  {
   "cell_type": "code",
   "execution_count": 21,
   "metadata": {},
   "outputs": [
    {
     "data": {
      "text/plain": [
       "<matplotlib.axes._subplots.AxesSubplot at 0x7f908512c550>"
      ]
     },
     "execution_count": 21,
     "metadata": {},
     "output_type": "execute_result"
    },
    {
     "data": {
      "image/png": "[encoded data removed]",
      "text/plain": [
       "<Figure size 432x288 with 1 Axes>"
      ]
     },
     "metadata": {
      "needs_background": "light"
     },
     "output_type": "display_data"
    }
   ],
   "source": [
    "situacao_sexo = pd.crosstab(data['SITUACAO'],data['SEXO'])\n",
    "situacao_sexo.plot(kind='bar',width=0.5, color=['red','blue'], title='Situação Mulheres x Homens no Curso de TI')\n"
   ]
  },
  {
   "cell_type": "code",
   "execution_count": null,
   "metadata": {},
   "outputs": [],
   "source": []
  }
 ],
 "metadata": {
  "kernelspec": {
   "display_name": "Python 3",
   "language": "python",
   "name": "python3"
  },
  "language_info": {
   "codemirror_mode": {
    "name": "ipython",
    "version": 3
   },
   "file_extension": ".py",
   "mimetype": "text/x-python",
   "name": "python",
   "nbconvert_exporter": "python",
   "pygments_lexer": "ipython3",
   "version": "3.6.8"
  }
 },
 "nbformat": 4,
 "nbformat_minor": 2
}
